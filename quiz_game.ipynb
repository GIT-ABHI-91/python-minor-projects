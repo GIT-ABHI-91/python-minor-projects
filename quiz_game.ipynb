{
 "cells": [
  {
   "cell_type": "code",
   "execution_count": 4,
   "id": "2f5bb4ea-3ca5-47f0-9a35-76bdf4ca9beb",
   "metadata": {},
   "outputs": [
    {
     "name": "stdout",
     "output_type": "stream",
     "text": [
      "1. What is the capital of France?\n",
      "A) Berlin\n",
      "B) Madrid\n",
      "C) Paris\n",
      "D) Rome\n"
     ]
    },
    {
     "name": "stdin",
     "output_type": "stream",
     "text": [
      "ENTER YOUR ANSWER-  c\n"
     ]
    },
    {
     "name": "stdout",
     "output_type": "stream",
     "text": [
      "CORRECT ANSWER, ON TO THE NEXT\n",
      "2. Who wrote the Harry Potter series?\n",
      "A) J.R.R. Tolkien\n",
      "B) J.K. Rowling\n",
      "C) George R.R. Martin\n",
      "D) Rick Riordan\n"
     ]
    },
    {
     "name": "stdin",
     "output_type": "stream",
     "text": [
      "ENTER YOUR ANSWER-  b\n"
     ]
    },
    {
     "name": "stdout",
     "output_type": "stream",
     "text": [
      "CORRECT ANSWER, ON TO THE NEXT\n",
      "3. Which planet is known as the Red Planet?\n",
      "A) Venus\n",
      "B) Mars\n",
      "C) Jupiter\n",
      "D) Mercury\n"
     ]
    },
    {
     "name": "stdin",
     "output_type": "stream",
     "text": [
      "ENTER YOUR ANSWER-  b\n"
     ]
    },
    {
     "name": "stdout",
     "output_type": "stream",
     "text": [
      "CORRECT ANSWER, ON TO THE NEXT\n",
      "4. Which gas do plants absorb from the atmosphere?\n",
      "A) Oxygen\n",
      "B) Nitrogen\n",
      "C) Carbon Dioxide\n",
      "D) Hydrogen\n"
     ]
    },
    {
     "name": "stdin",
     "output_type": "stream",
     "text": [
      "ENTER YOUR ANSWER-  c\n"
     ]
    },
    {
     "name": "stdout",
     "output_type": "stream",
     "text": [
      "CORRECT ANSWER, ON TO THE NEXT\n",
      "5. What is the square root of 144?\n",
      "A) 10\n",
      "B) 11\n",
      "C) 12\n",
      "D) 14\n"
     ]
    },
    {
     "name": "stdin",
     "output_type": "stream",
     "text": [
      "ENTER YOUR ANSWER-  c\n"
     ]
    },
    {
     "name": "stdout",
     "output_type": "stream",
     "text": [
      "CORRECT ANSWER, ON TO THE NEXT\n",
      "FINAL SCORE-  5\n"
     ]
    }
   ],
   "source": [
    "#quiz game\n",
    "score=0\n",
    "question_set={\"1. What is the capital of France?\":\n",
    "              {'options':[\"A) Berlin\",\"B) Madrid\",\"C) Paris\",\"D) Rome\"],'answer':\"c\"},\n",
    "              \"2. Who wrote the Harry Potter series?\":\n",
    "              {'options':[\"A) J.R.R. Tolkien\",\"B) J.K. Rowling\",\"C) George R.R. Martin\",\"D) Rick Riordan\"],'answer':\"b\"},\n",
    "              \"3. Which planet is known as the Red Planet?\":\n",
    "              {'options':[\"A) Venus\",\"B) Mars\",\"C) Jupiter\",\"D) Mercury\"],'answer':'b'},\n",
    "              \"4. Which gas do plants absorb from the atmosphere?\":\n",
    "              {'options':[\"A) Oxygen\",\"B) Nitrogen\",\"C) Carbon Dioxide\",\"D) Hydrogen\"],'answer':'c'},\n",
    "              \"5. What is the square root of 144?\":\n",
    "              {'options':[\"A) 10\",\"B) 11\",\"C) 12\",\"D) 14\"],'answer':'c'}}\n",
    "for i in question_set:\n",
    "    print(i)\n",
    "    for j in question_set[i]['options']:\n",
    "        print(j)\n",
    "    ans=input(\"ENTER YOUR ANSWER- \")\n",
    "    if(ans.lower()==question_set[i]['answer']):\n",
    "        print(\"CORRECT ANSWER, ON TO THE NEXT\")\n",
    "        score+=1\n",
    "    elif(ans.lower()!=question_set[i]['answer']):\n",
    "        print(\"WRONG ANSWER, BETTER LUCK IN THE NEXT ONE\")\n",
    "print(\"FINAL SCORE- \",score)"
   ]
  },
  {
   "cell_type": "code",
   "execution_count": null,
   "id": "8f8b6cc4-709e-41a4-a9f6-8f07315b4e74",
   "metadata": {},
   "outputs": [],
   "source": []
  }
 ],
 "metadata": {
  "kernelspec": {
   "display_name": "Python 3 (ipykernel)",
   "language": "python",
   "name": "python3"
  },
  "language_info": {
   "codemirror_mode": {
    "name": "ipython",
    "version": 3
   },
   "file_extension": ".py",
   "mimetype": "text/x-python",
   "name": "python",
   "nbconvert_exporter": "python",
   "pygments_lexer": "ipython3",
   "version": "3.10.10"
  }
 },
 "nbformat": 4,
 "nbformat_minor": 5
}
