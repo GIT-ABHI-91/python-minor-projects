{
 "cells": [
  {
   "cell_type": "code",
   "execution_count": 1,
   "id": "3b94aa18-5960-4925-9e5f-2b5a83ed3a85",
   "metadata": {},
   "outputs": [
    {
     "name": "stdin",
     "output_type": "stream",
     "text": [
      "ENTER UNITS CONSUMED-  240\n"
     ]
    },
    {
     "name": "stdout",
     "output_type": "stream",
     "text": [
      "FINAL ELECTRICITY BILL-  610.0\n"
     ]
    }
   ],
   "source": [
    "# electricity bill calculator\n",
    "fixed_charge=50\n",
    "units=int(input(\"ENTER UNITS CONSUMED- \"))\n",
    "if(units<=100): #units less than 100\n",
    "    final_charge= 50 + (units* 1.5)\n",
    "elif(units>100 and units<=200): #units between 100 and 200\n",
    "    final_charge= 50 + (100*1.5) + ((units-100)*2.5)\n",
    "elif(units>200 and units<=300): #units between 200 and 300\n",
    "    final_charge= 50 + (100*1.5) + (100*2.5) + ((units-200)*4.0)\n",
    "elif(units > 300): #units more than 300\n",
    "    final_charge= 50 + (100*1.5) + (100*2.5) + (100*4.0) + ((units-300)*6.0)\n",
    "print(\"FINAL ELECTRICITY BILL- \",final_charge)"
   ]
  },
  {
   "cell_type": "code",
   "execution_count": null,
   "id": "c94613c8-70a0-4b4f-92cc-bda4f3a9e011",
   "metadata": {},
   "outputs": [],
   "source": []
  }
 ],
 "metadata": {
  "kernelspec": {
   "display_name": "Python 3 (ipykernel)",
   "language": "python",
   "name": "python3"
  },
  "language_info": {
   "codemirror_mode": {
    "name": "ipython",
    "version": 3
   },
   "file_extension": ".py",
   "mimetype": "text/x-python",
   "name": "python",
   "nbconvert_exporter": "python",
   "pygments_lexer": "ipython3",
   "version": "3.10.10"
  }
 },
 "nbformat": 4,
 "nbformat_minor": 5
}
