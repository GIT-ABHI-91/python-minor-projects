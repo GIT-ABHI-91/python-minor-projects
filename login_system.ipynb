{
 "cells": [
  {
   "cell_type": "code",
   "execution_count": 1,
   "id": "3ad27ded-74ec-4ac1-8d6d-333be97a01bc",
   "metadata": {},
   "outputs": [
    {
     "name": "stdin",
     "output_type": "stream",
     "text": [
      "ENTER USERNAME:  amazingbro\n",
      "ENTER PASSWORD:  asddnkc\n"
     ]
    },
    {
     "name": "stdout",
     "output_type": "stream",
     "text": [
      "TRY AGAIN.\n"
     ]
    },
    {
     "name": "stdin",
     "output_type": "stream",
     "text": [
      "ENTER USERNAME:  amazingbro\n",
      "ENTER PASSWORD:  abhi5971\n"
     ]
    },
    {
     "name": "stdout",
     "output_type": "stream",
     "text": [
      "WELCOME BACK ABHISHEK.\n"
     ]
    }
   ],
   "source": [
    "#login system\n",
    "attempts = 0\n",
    "while attempts < 3:\n",
    "    username = input(\"ENTER USERNAME: \")\n",
    "    password = input(\"ENTER PASSWORD: \")\n",
    "    \n",
    "    if username == \"amazingbro\" and password == \"abhi5971\":\n",
    "        print(\"WELCOME BACK ABHISHEK.\")\n",
    "        break\n",
    "    else:\n",
    "        attempts += 1\n",
    "        if attempts == 3:\n",
    "            print(\"BLOCKING ACCOUNT FOR UNAUTHORISED ACCESS\")\n",
    "        else:\n",
    "            print(\"TRY AGAIN.\")"
   ]
  },
  {
   "cell_type": "code",
   "execution_count": null,
   "id": "f786e93b-b94d-4177-a005-94647f1c2b5f",
   "metadata": {},
   "outputs": [],
   "source": []
  }
 ],
 "metadata": {
  "kernelspec": {
   "display_name": "Python 3 (ipykernel)",
   "language": "python",
   "name": "python3"
  },
  "language_info": {
   "codemirror_mode": {
    "name": "ipython",
    "version": 3
   },
   "file_extension": ".py",
   "mimetype": "text/x-python",
   "name": "python",
   "nbconvert_exporter": "python",
   "pygments_lexer": "ipython3",
   "version": "3.10.10"
  }
 },
 "nbformat": 4,
 "nbformat_minor": 5
}
