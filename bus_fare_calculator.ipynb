{
 "cells": [
  {
   "cell_type": "code",
   "execution_count": 6,
   "id": "1a51fb04-3804-406a-9777-1ed2e33c171b",
   "metadata": {},
   "outputs": [
    {
     "name": "stdin",
     "output_type": "stream",
     "text": [
      "PLEASE ENTER YOUR AGE-  67\n"
     ]
    },
    {
     "name": "stdout",
     "output_type": "stream",
     "text": [
      "FINAL FARE BASED ON THE AGE-  70.0\n"
     ]
    }
   ],
   "source": [
    "#age based bus fare calculator\n",
    "fare=100 #basic fare\n",
    "age=int(input(\"PLEASE ENTER YOUR AGE- \"))\n",
    "if(age<5): #if age is less than 5\n",
    "    print(\"FINAL FARE- $0\")\n",
    "elif(age>=5 and age<=12): #if age is between 5 and 12\n",
    "    final_fare= fare-(fare*(50/100))\n",
    "    print(\"FINAL FARE BASED ON THE AGE- \",final_fare)\n",
    "elif(age>=60): #if age is above 60\n",
    "    final_fare= fare-(fare*(30/100))\n",
    "    print(\"FINAL FARE BASED ON THE AGE- \",final_fare)\n",
    "else: #fare for other age groups\n",
    "    final_fare= fare\n",
    "    print(\"FINAL FARE BASED ON THE AGE- \",final_fare)"
   ]
  },
  {
   "cell_type": "code",
   "execution_count": null,
   "id": "4c9060be-f63c-41b1-bfe8-87b41b683e76",
   "metadata": {},
   "outputs": [],
   "source": []
  }
 ],
 "metadata": {
  "kernelspec": {
   "display_name": "Python 3 (ipykernel)",
   "language": "python",
   "name": "python3"
  },
  "language_info": {
   "codemirror_mode": {
    "name": "ipython",
    "version": 3
   },
   "file_extension": ".py",
   "mimetype": "text/x-python",
   "name": "python",
   "nbconvert_exporter": "python",
   "pygments_lexer": "ipython3",
   "version": "3.10.10"
  }
 },
 "nbformat": 4,
 "nbformat_minor": 5
}
