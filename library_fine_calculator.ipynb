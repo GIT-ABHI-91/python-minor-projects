{
 "cells": [
  {
   "cell_type": "code",
   "execution_count": 1,
   "id": "a89da88e-beb0-4f0b-882e-f4349e4ec431",
   "metadata": {},
   "outputs": [
    {
     "name": "stdin",
     "output_type": "stream",
     "text": [
      "ENTER DAYS OVERDUE-  6\n"
     ]
    },
    {
     "name": "stdout",
     "output_type": "stream",
     "text": [
      "DAYS OVERUDE-  6 \n",
      "LATE FINE CHARGED-  30\n"
     ]
    }
   ],
   "source": [
    "# library late submission fine calculator\n",
    "overdue_days=int(input(\"ENTER DAYS OVERDUE- \"))\n",
    "if(overdue_days<=5): #less than 5 days\n",
    "    charge= overdue_days*2\n",
    "elif(overdue_days<=10): #less than 10 days\n",
    "    charge= overdue_days*5\n",
    "elif(overdue_days<30): #less than 30 days\n",
    "    charge= overdue_days*10\n",
    "elif(overdue_days>=30): #days over 30\n",
    "    charge=500\n",
    "print(\"DAYS OVERUDE- \",overdue_days,\"\\nLATE FINE CHARGED- \",charge) #final charge"
   ]
  },
  {
   "cell_type": "code",
   "execution_count": null,
   "id": "0cb79a58-c8a0-4e82-8626-a56ee54069a9",
   "metadata": {},
   "outputs": [],
   "source": []
  }
 ],
 "metadata": {
  "kernelspec": {
   "display_name": "Python 3 (ipykernel)",
   "language": "python",
   "name": "python3"
  },
  "language_info": {
   "codemirror_mode": {
    "name": "ipython",
    "version": 3
   },
   "file_extension": ".py",
   "mimetype": "text/x-python",
   "name": "python",
   "nbconvert_exporter": "python",
   "pygments_lexer": "ipython3",
   "version": "3.10.10"
  }
 },
 "nbformat": 4,
 "nbformat_minor": 5
}
